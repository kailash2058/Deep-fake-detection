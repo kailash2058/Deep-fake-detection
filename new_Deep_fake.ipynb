{
  "nbformat": 4,
  "nbformat_minor": 0,
  "metadata": {
    "colab": {
      "provenance": []
    },
    "kernelspec": {
      "name": "python3",
      "display_name": "Python 3"
    },
    "language_info": {
      "name": "python"
    }
  },
  "cells": [
    {
      "cell_type": "code",
      "source": [
        "import tensorflow as tf\n",
        "from tensorflow import keras\n",
        "from tensorflow.keras import  layers, models\n",
        "from tensorflow.keras.layers import Input, Conv2D, MaxPooling2D, Flatten, Dense\n",
        "from tensorflow.keras.models import Model\n",
        "from tensorflow.keras.preprocessing.image import ImageDataGenerator\n",
        "from keras.src.layers.activation.leaky_relu import LeakyReLU\n",
        "from tensorflow.keras.layers import Input ,BatchNormalization,Flatten, Dense,Dropout\n",
        "import numpy as np"
      ],
      "metadata": {
        "id": "OsHUQWyq2TuK"
      },
      "execution_count": null,
      "outputs": []
    },
    {
      "cell_type": "code",
      "execution_count": null,
      "metadata": {
        "id": "T4QT79P72Ll-"
      },
      "outputs": [],
      "source": [
        "\n",
        "\n",
        "\n",
        "# Define the Mesonet-4 architecture\n",
        "def mesonet4(input_shape):\n",
        "\n",
        "\n",
        "    #//////////////////////////////////////////////\n",
        "      x = Input(shape=input_shape)\n",
        "\n",
        "      x1=layers.Conv2D(8 ,(3,3),padding='same', activation='relu')(x)\n",
        "      x1=BatchNormalization()(x1)\n",
        "      x1=layers.MaxPooling2D((2,2))(x1)\n",
        "\n",
        "      x2=layers.Conv2D(filters=8 , kernel_size=(5,5),padding='same', activation='relu')(x1)\n",
        "      x2=BatchNormalization()(x2)\n",
        "      x2=layers.MaxPooling2D((2,2))(x2)\n",
        "\n",
        "      x3=layers.Conv2D(filters=16 , kernel_size=(5,5),padding='same', activation='relu')(x2)\n",
        "      x3=BatchNormalization()(x3)\n",
        "      x3=layers.MaxPooling2D((2,2))(x3)\n",
        "\n",
        "      x4=layers.Conv2D(filters=16 , kernel_size=(5,5),padding='same', activation='relu')(x3)\n",
        "      x4=BatchNormalization()(x4)\n",
        "      x4=layers.MaxPooling2D((2,2))(x4)\n",
        "\n",
        "      y=Flatten()(x4)\n",
        "      y=Dropout(0.5)(y)\n",
        "      y=Dense(16)(y)\n",
        "      y=LeakyReLU(alpha=0.1)(y)\n",
        "      y=Dropout(0.5)(y)\n",
        "      y=Dense(1,activation='sigmoid')(y)\n",
        "    #//////////////////////////////////////////////////\n",
        "      model = Model(inputs= x, outputs=y)\n",
        "      return model\n",
        "\n"
      ]
    },
    {
      "cell_type": "code",
      "source": [
        "# Create the Mesonet-4 model\n",
        "input_shape = (128, 128, 3)  # Modify input shape based on your data\n",
        "model = mesonet4(input_shape)\n",
        "\n",
        "# Compile the model\n",
        "model.compile(optimizer='adam', loss='binary_crossentropy', metrics=['accuracy'])\n",
        "\n",
        "# Print model summary\n",
        "model.summary()"
      ],
      "metadata": {
        "colab": {
          "base_uri": "https://localhost:8080/"
        },
        "id": "QRGd3470zYSw",
        "outputId": "0df699ab-50fd-4d33-e8e4-a597fb6f75a3"
      },
      "execution_count": null,
      "outputs": [
        {
          "output_type": "stream",
          "name": "stdout",
          "text": [
            "Model: \"model\"\n",
            "_________________________________________________________________\n",
            " Layer (type)                Output Shape              Param #   \n",
            "=================================================================\n",
            " input_1 (InputLayer)        [(None, 128, 128, 3)]     0         \n",
            "                                                                 \n",
            " conv2d (Conv2D)             (None, 128, 128, 8)       224       \n",
            "                                                                 \n",
            " batch_normalization (Batch  (None, 128, 128, 8)       32        \n",
            " Normalization)                                                  \n",
            "                                                                 \n",
            " max_pooling2d (MaxPooling2  (None, 64, 64, 8)         0         \n",
            " D)                                                              \n",
            "                                                                 \n",
            " conv2d_1 (Conv2D)           (None, 64, 64, 8)         1608      \n",
            "                                                                 \n",
            " batch_normalization_1 (Bat  (None, 64, 64, 8)         32        \n",
            " chNormalization)                                                \n",
            "                                                                 \n",
            " max_pooling2d_1 (MaxPoolin  (None, 32, 32, 8)         0         \n",
            " g2D)                                                            \n",
            "                                                                 \n",
            " conv2d_2 (Conv2D)           (None, 32, 32, 16)        3216      \n",
            "                                                                 \n",
            " batch_normalization_2 (Bat  (None, 32, 32, 16)        64        \n",
            " chNormalization)                                                \n",
            "                                                                 \n",
            " max_pooling2d_2 (MaxPoolin  (None, 16, 16, 16)        0         \n",
            " g2D)                                                            \n",
            "                                                                 \n",
            " conv2d_3 (Conv2D)           (None, 16, 16, 16)        6416      \n",
            "                                                                 \n",
            " batch_normalization_3 (Bat  (None, 16, 16, 16)        64        \n",
            " chNormalization)                                                \n",
            "                                                                 \n",
            " max_pooling2d_3 (MaxPoolin  (None, 8, 8, 16)          0         \n",
            " g2D)                                                            \n",
            "                                                                 \n",
            " flatten (Flatten)           (None, 1024)              0         \n",
            "                                                                 \n",
            " dropout (Dropout)           (None, 1024)              0         \n",
            "                                                                 \n",
            " dense (Dense)               (None, 16)                16400     \n",
            "                                                                 \n",
            " leaky_re_lu (LeakyReLU)     (None, 16)                0         \n",
            "                                                                 \n",
            " dropout_1 (Dropout)         (None, 16)                0         \n",
            "                                                                 \n",
            " dense_1 (Dense)             (None, 1)                 17        \n",
            "                                                                 \n",
            "=================================================================\n",
            "Total params: 28073 (109.66 KB)\n",
            "Trainable params: 27977 (109.29 KB)\n",
            "Non-trainable params: 96 (384.00 Byte)\n",
            "_________________________________________________________________\n"
          ]
        }
      ]
    },
    {
      "cell_type": "code",
      "source": [
        "from google.colab import drive\n",
        "drive.mount('/content/drive')"
      ],
      "metadata": {
        "colab": {
          "base_uri": "https://localhost:8080/"
        },
        "id": "8_0UUqYMzYDv",
        "outputId": "3a3a60ad-6317-4da3-dd57-40783a80910e"
      },
      "execution_count": null,
      "outputs": [
        {
          "output_type": "stream",
          "name": "stdout",
          "text": [
            "Mounted at /content/drive\n"
          ]
        }
      ]
    },
    {
      "cell_type": "code",
      "source": [],
      "metadata": {
        "id": "WM-qX-eizXuY"
      },
      "execution_count": null,
      "outputs": []
    },
    {
      "cell_type": "code",
      "source": [
        "\n",
        "\n",
        "# Data loading and preprocessing\n",
        "# You should replace this with your dataset loading and preprocessing code\n",
        "# Make sure to split your dataset into training and validation sets\n",
        "\n",
        "# Example data loading using ImageDataGenerator\n",
        "train_data_generator = ImageDataGenerator(\n",
        "    rescale=1./255,\n",
        "    rotation_range=20,\n",
        "    width_shift_range=0.2,\n",
        "    height_shift_range=0.2,\n",
        "    horizontal_flip=True,\n",
        "    validation_split=0.2  # 80% for training, 20% for validation\n",
        ")\n",
        "\n",
        "train_generator = train_data_generator.flow_from_directory(\n",
        "    '/content/drive/MyDrive/Colab_Notebooks/deepfake_database/train_test',\n",
        "    target_size=(128, 128),\n",
        "    batch_size=32,\n",
        "    class_mode='binary',\n",
        "    subset='training'  # Use 'validation' for validation generator\n",
        ")\n",
        "\n",
        "\n",
        "\n",
        "\n"
      ],
      "metadata": {
        "id": "k4uAKln52aSP",
        "colab": {
          "base_uri": "https://localhost:8080/"
        },
        "outputId": "c80399ba-63b7-4feb-fc83-5ec067458afe"
      },
      "execution_count": null,
      "outputs": [
        {
          "output_type": "stream",
          "name": "stdout",
          "text": [
            "Found 7571 images belonging to 2 classes.\n"
          ]
        }
      ]
    },
    {
      "cell_type": "code",
      "source": [
        "train_generator.class_indices"
      ],
      "metadata": {
        "colab": {
          "base_uri": "https://localhost:8080/"
        },
        "id": "6LNGL8Za2F4H",
        "outputId": "99b67991-1937-4329-8e56-e9733928a857"
      },
      "execution_count": null,
      "outputs": [
        {
          "output_type": "execute_result",
          "data": {
            "text/plain": [
              "{'df': 0, 'real': 1}"
            ]
          },
          "metadata": {},
          "execution_count": 6
        }
      ]
    },
    {
      "cell_type": "code",
      "source": [
        "train_generator.classes"
      ],
      "metadata": {
        "colab": {
          "base_uri": "https://localhost:8080/"
        },
        "id": "mWO07QZu0Nv4",
        "outputId": "03d6f827-bcb3-4a04-f3fc-42fcd1acdd6c"
      },
      "execution_count": null,
      "outputs": [
        {
          "output_type": "execute_result",
          "data": {
            "text/plain": [
              "array([0, 0, 0, ..., 1, 1, 1], dtype=int32)"
            ]
          },
          "metadata": {},
          "execution_count": 7
        }
      ]
    },
    {
      "cell_type": "code",
      "source": [],
      "metadata": {
        "id": "RsZYrt1d2KOP"
      },
      "execution_count": null,
      "outputs": []
    },
    {
      "cell_type": "code",
      "source": [
        "# Training the model\n",
        "model.fit(train_generator, epochs=25)"
      ],
      "metadata": {
        "id": "_HujWqmN2gtw",
        "colab": {
          "base_uri": "https://localhost:8080/"
        },
        "outputId": "2709c1d3-4eca-461b-e5b6-3230f00ace8e"
      },
      "execution_count": null,
      "outputs": [
        {
          "output_type": "stream",
          "name": "stdout",
          "text": [
            "Epoch 1/25\n",
            "237/237 [==============================] - 1106s 5s/step - loss: 0.6884 - accuracy: 0.6055\n",
            "Epoch 2/25\n",
            "237/237 [==============================] - 168s 707ms/step - loss: 0.5740 - accuracy: 0.7047\n",
            "Epoch 3/25\n",
            "237/237 [==============================] - 170s 716ms/step - loss: 0.5103 - accuracy: 0.7558\n",
            "Epoch 4/25\n",
            "237/237 [==============================] - 170s 718ms/step - loss: 0.4584 - accuracy: 0.7875\n",
            "Epoch 5/25\n",
            "237/237 [==============================] - 170s 716ms/step - loss: 0.4241 - accuracy: 0.8085\n",
            "Epoch 6/25\n",
            "237/237 [==============================] - 169s 713ms/step - loss: 0.3715 - accuracy: 0.8354\n",
            "Epoch 7/25\n",
            "237/237 [==============================] - 169s 710ms/step - loss: 0.3345 - accuracy: 0.8618\n",
            "Epoch 8/25\n",
            "237/237 [==============================] - 171s 719ms/step - loss: 0.3236 - accuracy: 0.8670\n",
            "Epoch 9/25\n",
            "237/237 [==============================] - 171s 721ms/step - loss: 0.2888 - accuracy: 0.8765\n",
            "Epoch 10/25\n",
            "237/237 [==============================] - 168s 708ms/step - loss: 0.2768 - accuracy: 0.8840\n",
            "Epoch 11/25\n",
            "237/237 [==============================] - 171s 720ms/step - loss: 0.2590 - accuracy: 0.8951\n",
            "Epoch 12/25\n",
            "237/237 [==============================] - 169s 713ms/step - loss: 0.2417 - accuracy: 0.8970\n",
            "Epoch 13/25\n",
            "237/237 [==============================] - 172s 722ms/step - loss: 0.2342 - accuracy: 0.9060\n",
            "Epoch 14/25\n",
            "237/237 [==============================] - 168s 708ms/step - loss: 0.2274 - accuracy: 0.9066\n",
            "Epoch 15/25\n",
            "237/237 [==============================] - 171s 719ms/step - loss: 0.2229 - accuracy: 0.9131\n",
            "Epoch 16/25\n",
            "237/237 [==============================] - 169s 712ms/step - loss: 0.2101 - accuracy: 0.9169\n",
            "Epoch 17/25\n",
            "237/237 [==============================] - 168s 708ms/step - loss: 0.2128 - accuracy: 0.9197\n",
            "Epoch 18/25\n",
            "237/237 [==============================] - 169s 712ms/step - loss: 0.2042 - accuracy: 0.9205\n",
            "Epoch 19/25\n",
            "237/237 [==============================] - 181s 762ms/step - loss: 0.1966 - accuracy: 0.9196\n",
            "Epoch 20/25\n",
            "237/237 [==============================] - 170s 713ms/step - loss: 0.1942 - accuracy: 0.9279\n",
            "Epoch 21/25\n",
            "237/237 [==============================] - 168s 708ms/step - loss: 0.1883 - accuracy: 0.9293\n",
            "Epoch 22/25\n",
            "237/237 [==============================] - 170s 715ms/step - loss: 0.1921 - accuracy: 0.9304\n",
            "Epoch 23/25\n",
            "237/237 [==============================] - 167s 706ms/step - loss: 0.1810 - accuracy: 0.9349\n",
            "Epoch 24/25\n",
            "237/237 [==============================] - 166s 701ms/step - loss: 0.1650 - accuracy: 0.9387\n",
            "Epoch 25/25\n",
            "237/237 [==============================] - 169s 712ms/step - loss: 0.1729 - accuracy: 0.9313\n"
          ]
        },
        {
          "output_type": "execute_result",
          "data": {
            "text/plain": [
              "<keras.src.callbacks.History at 0x78cc5c2dae60>"
            ]
          },
          "metadata": {},
          "execution_count": 9
        }
      ]
    },
    {
      "cell_type": "code",
      "source": [
        "model.save('my_trained_model_big.h5')\n"
      ],
      "metadata": {
        "id": "GwtooUR-A5Nx"
      },
      "execution_count": null,
      "outputs": []
    },
    {
      "cell_type": "code",
      "source": [
        "model.save('my_trained_model_big.h5')\n"
      ],
      "metadata": {
        "id": "4Ki5WTj1GxYg"
      },
      "execution_count": null,
      "outputs": []
    },
    {
      "cell_type": "code",
      "source": [
        "loaded_model = keras.models.load_model('my_trained_model_big.h5')\n"
      ],
      "metadata": {
        "id": "5giZfM9vA-PQ"
      },
      "execution_count": null,
      "outputs": []
    },
    {
      "cell_type": "code",
      "source": [
        "image_path='/content/drive/MyDrive/Colab_Notebooks/deepfake_database/validation/real/47_516.jpg'\n",
        "import cv2\n",
        "from google.colab.patches import cv2_imshow\n",
        "# Load the image\n",
        "image = cv2.imread(image_path)\n",
        "\n",
        "# Display the image (optional)\n",
        "cv2_imshow( image)"
      ],
      "metadata": {
        "colab": {
          "base_uri": "https://localhost:8080/",
          "height": 247
        },
        "id": "QujuQFxFAdJH",
        "outputId": "c235afcb-c6b4-47ac-e8e4-ff00c037177a"
      },
      "execution_count": null,
      "outputs": [
        {
          "output_type": "display_data",
          "data": {
            "text/plain": [
              "<PIL.Image.Image image mode=RGB size=230x230>"
            ],
            "image/png": "[encoded data removed]"
          },
          "metadata": {}
        }
      ]
    },
    {
      "cell_type": "code",
      "source": [
        "from tensorflow.keras.preprocessing import image\n",
        "\n",
        "# Load an image from a file path\n",
        "  # Replace with the actual file path\n",
        "img = image.load_img(image_path, target_size=(128, 128))  # Adjust target_size as needed\n",
        "\n",
        "# Preprocess the image\n",
        "img = image.img_to_array(img)\n",
        "img = np.expand_dims(img, axis=0)\n",
        "img = img / 255.0  # Normalize the image data if necessary\n",
        "\n",
        "predictions = loaded_model.predict(img)\n",
        "print(predictions)\n",
        "\n",
        "class_labels = {0: \"df\", 1: \"real\"}\n",
        "\n",
        "\n",
        "\n",
        "predicted_class_index = np.argmax(predictions)\n",
        "predicted_class_label = class_labels[predicted_class_index]\n",
        "predicted_class_label"
      ],
      "metadata": {
        "colab": {
          "base_uri": "https://localhost:8080/",
          "height": 70
        },
        "id": "uKKSdOwRAT7A",
        "outputId": "9fc0e402-2f0b-40e9-ec2b-bd327dceb8b5"
      },
      "execution_count": null,
      "outputs": [
        {
          "output_type": "stream",
          "name": "stdout",
          "text": [
            "1/1 [==============================] - 0s 43ms/step\n",
            "[[0.87882525]]\n"
          ]
        },
        {
          "output_type": "execute_result",
          "data": {
            "text/plain": [
              "'df'"
            ],
            "application/vnd.google.colaboratory.intrinsic+json": {
              "type": "string"
            }
          },
          "metadata": {},
          "execution_count": 22
        }
      ]
    },
    {
      "cell_type": "code",
      "source": [],
      "metadata": {
        "colab": {
          "base_uri": "https://localhost:8080/"
        },
        "id": "2KGd5qRSAU0v",
        "outputId": "4249d1d9-601a-4ec8-ba36-a5a52d3b4c90"
      },
      "execution_count": null,
      "outputs": [
        {
          "output_type": "stream",
          "name": "stdout",
          "text": [
            "1/1 [==============================] - 0s 23ms/step\n"
          ]
        },
        {
          "output_type": "execute_result",
          "data": {
            "text/plain": [
              "array([[0.36179772]], dtype=float32)"
            ]
          },
          "metadata": {},
          "execution_count": 68
        }
      ]
    },
    {
      "cell_type": "code",
      "source": [
        "class_labels = {0: \"df\", 1: \"real\"}\n",
        "\n",
        "\n",
        "\n",
        "predicted_class_index = np.argmax(predictions)\n",
        "predicted_class_label = class_labels[predicted_class_index]\n",
        "predicted_class_label"
      ],
      "metadata": {
        "colab": {
          "base_uri": "https://localhost:8080/",
          "height": 36
        },
        "id": "y1d3zUUXDNqf",
        "outputId": "ff3a5b10-84de-40d2-d7e8-86d865eee1de"
      },
      "execution_count": null,
      "outputs": [
        {
          "output_type": "execute_result",
          "data": {
            "text/plain": [
              "'df'"
            ],
            "application/vnd.google.colaboratory.intrinsic+json": {
              "type": "string"
            }
          },
          "metadata": {},
          "execution_count": 67
        }
      ]
    },
    {
      "cell_type": "code",
      "source": [],
      "metadata": {
        "id": "DvvLgEcAD6ah"
      },
      "execution_count": null,
      "outputs": []
    },
    {
      "cell_type": "markdown",
      "source": [
        "Validiation\n"
      ],
      "metadata": {
        "id": "d8zSn5nGJGgI"
      }
    },
    {
      "cell_type": "code",
      "source": [
        "validation_data_generator  = ImageDataGenerator(\n",
        "    rescale=1./255,\n",
        "    rotation_range=20,\n",
        "    width_shift_range=0.2,\n",
        "    height_shift_range=0.2,\n",
        "    horizontal_flip=True,\n",
        ")\n",
        "\n",
        "# Load the validation dataset using flow_from_directory\n",
        "validation_generator = validation_data_generator.flow_from_directory(\n",
        "    '/content/drive/MyDrive/Colab_Notebooks/deepfake_database/train_test',\n",
        "    target_size=(128, 128),\n",
        "    batch_size=32,\n",
        "    class_mode='binary',\n",
        "    subset='validation'\n",
        ")"
      ],
      "metadata": {
        "colab": {
          "base_uri": "https://localhost:8080/"
        },
        "id": "MNLMmQlIJKOI",
        "outputId": "a6ab790f-2748-48e4-c4e6-6680d2b47fae"
      },
      "execution_count": 25,
      "outputs": [
        {
          "output_type": "stream",
          "name": "stdout",
          "text": [
            "Found 0 images belonging to 2 classes.\n"
          ]
        }
      ]
    }
  ]
}