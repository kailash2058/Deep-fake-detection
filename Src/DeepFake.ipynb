{
 "cells": [
  {
   "cell_type": "code",
   "execution_count": 52,
   "id": "6116b25d",
   "metadata": {
    "execution": {
     "iopub.execute_input": "2023-11-07T03:33:01.573837Z",
     "iopub.status.busy": "2023-11-07T03:33:01.573395Z",
     "iopub.status.idle": "2023-11-07T03:33:10.233028Z",
     "shell.execute_reply": "2023-11-07T03:33:10.231874Z"
    },
    "id": "OsHUQWyq2TuK",
    "papermill": {
     "duration": 8.673869,
     "end_time": "2023-11-07T03:33:10.235839",
     "exception": false,
     "start_time": "2023-11-07T03:33:01.561970",
     "status": "completed"
    },
    "tags": []
   },
   "outputs": [],
   "source": [
    "import tensorflow as tf\n",
    "from tensorflow import keras\n",
    "from tensorflow.keras import  layers, models\n",
    "from tensorflow.keras.layers import Input, Conv2D, MaxPooling2D, Flatten, Dense\n",
    "from tensorflow.keras.models import Model,load_model\n",
    "from tensorflow.keras.preprocessing.image import ImageDataGenerator\n",
    "from keras.layers import LeakyReLU\n",
    "from tensorflow.keras.layers import Input ,BatchNormalization,Flatten, Dense,Dropout\n",
    "import numpy as np"
   ]
  },
  {
   "cell_type": "code",
   "execution_count": 53,
   "id": "2990d4f6",
   "metadata": {
    "execution": {
     "iopub.execute_input": "2023-11-07T03:33:10.256460Z",
     "iopub.status.busy": "2023-11-07T03:33:10.255833Z",
     "iopub.status.idle": "2023-11-07T03:33:10.265800Z",
     "shell.execute_reply": "2023-11-07T03:33:10.264645Z"
    },
    "id": "T4QT79P72Ll-",
    "papermill": {
     "duration": 0.022878,
     "end_time": "2023-11-07T03:33:10.268148",
     "exception": false,
     "start_time": "2023-11-07T03:33:10.245270",
     "status": "completed"
    },
    "tags": []
   },
   "outputs": [],
   "source": [
    "# Define the Mesonet-4 architecture\n",
    "def mesonet4(input_shape):\n",
    "\n",
    "\n",
    "    #//////////////////////////////////////////////\n",
    "      x = Input(shape=input_shape)\n",
    "\n",
    "      x1=layers.Conv2D(8 ,(3,3),padding='same', activation='relu')(x)\n",
    "      x1=BatchNormalization()(x1)\n",
    "      x1=layers.MaxPooling2D((2,2))(x1)\n",
    "\n",
    "      x2=layers.Conv2D(filters=8 , kernel_size=(5,5),padding='same', activation='relu')(x1)\n",
    "      x2=BatchNormalization()(x2)\n",
    "      x2=layers.MaxPooling2D((2,2))(x2)\n",
    "      x3=layers.Conv2D(filters=16 , kernel_size=(5,5),padding='same', activation='relu')(x2)\n",
    "      x3=BatchNormalization()(x3)\n",
    "      x3=layers.MaxPooling2D((2,2))(x3)\n",
    "\n",
    "      x4=layers.Conv2D(filters=16 , kernel_size=(5,5),padding='same', activation='relu')(x3)\n",
    "      x4=BatchNormalization()(x4)\n",
    "      x4=layers.MaxPooling2D((4,4))(x4)\n",
    "\n",
    "      y=Flatten()(x4)\n",
    "      y=Dropout(0.5)(y)\n",
    "      y=Dense(16)(y)\n",
    "      y=LeakyReLU(alpha=0.1)(y)\n",
    "      y=Dropout(0.5)(y)\n",
    "      y=Dense(1,activation='sigmoid')(y)\n",
    "    #//////////////////////////////////////////////////\n",
    "      model = Model(inputs= x, outputs=y)\n",
    "      return model"
   ]
  },
  {
   "cell_type": "code",
   "execution_count": 54,
   "id": "1d3e3afd",
   "metadata": {
    "execution": {
     "iopub.execute_input": "2023-11-07T03:33:10.288398Z",
     "iopub.status.busy": "2023-11-07T03:33:10.288034Z",
     "iopub.status.idle": "2023-11-07T03:33:10.647622Z",
     "shell.execute_reply": "2023-11-07T03:33:10.645963Z"
    },
    "id": "QRGd3470zYSw",
    "outputId": "b778c24a-d662-41ab-fa90-75ac2ec26a8f",
    "papermill": {
     "duration": 0.386019,
     "end_time": "2023-11-07T03:33:10.663432",
     "exception": false,
     "start_time": "2023-11-07T03:33:10.277413",
     "status": "completed"
    },
    "tags": []
   },
   "outputs": [
    {
     "name": "stdout",
     "output_type": "stream",
     "text": [
      "Model: \"model_2\"\n",
      "_________________________________________________________________\n",
      " Layer (type)                Output Shape              Param #   \n",
      "=================================================================\n",
      " input_3 (InputLayer)        [(None, 256, 256, 3)]     0         \n",
      "                                                                 \n",
      " conv2d_8 (Conv2D)           (None, 256, 256, 8)       224       \n",
      "                                                                 \n",
      " batch_normalization_8 (Bat  (None, 256, 256, 8)       32        \n",
      " chNormalization)                                                \n",
      "                                                                 \n",
      " max_pooling2d_8 (MaxPoolin  (None, 128, 128, 8)       0         \n",
      " g2D)                                                            \n",
      "                                                                 \n",
      " conv2d_9 (Conv2D)           (None, 128, 128, 8)       1608      \n",
      "                                                                 \n",
      " batch_normalization_9 (Bat  (None, 128, 128, 8)       32        \n",
      " chNormalization)                                                \n",
      "                                                                 \n",
      " max_pooling2d_9 (MaxPoolin  (None, 64, 64, 8)         0         \n",
      " g2D)                                                            \n",
      "                                                                 \n",
      " conv2d_10 (Conv2D)          (None, 64, 64, 16)        3216      \n",
      "                                                                 \n",
      " batch_normalization_10 (Ba  (None, 64, 64, 16)        64        \n",
      " tchNormalization)                                               \n",
      "                                                                 \n",
      " max_pooling2d_10 (MaxPooli  (None, 32, 32, 16)        0         \n",
      " ng2D)                                                           \n",
      "                                                                 \n",
      " conv2d_11 (Conv2D)          (None, 32, 32, 16)        6416      \n",
      "                                                                 \n",
      " batch_normalization_11 (Ba  (None, 32, 32, 16)        64        \n",
      " tchNormalization)                                               \n",
      "                                                                 \n",
      " max_pooling2d_11 (MaxPooli  (None, 8, 8, 16)          0         \n",
      " ng2D)                                                           \n",
      "                                                                 \n",
      " flatten_2 (Flatten)         (None, 1024)              0         \n",
      "                                                                 \n",
      " dropout_4 (Dropout)         (None, 1024)              0         \n",
      "                                                                 \n",
      " dense_4 (Dense)             (None, 16)                16400     \n",
      "                                                                 \n",
      " leaky_re_lu_2 (LeakyReLU)   (None, 16)                0         \n",
      "                                                                 \n",
      " dropout_5 (Dropout)         (None, 16)                0         \n",
      "                                                                 \n",
      " dense_5 (Dense)             (None, 1)                 17        \n",
      "                                                                 \n",
      "=================================================================\n",
      "Total params: 28073 (109.66 KB)\n",
      "Trainable params: 27977 (109.29 KB)\n",
      "Non-trainable params: 96 (384.00 Byte)\n",
      "_________________________________________________________________\n"
     ]
    }
   ],
   "source": [
    "# Create the Mesonet-4 model\n",
    "input_shape = (256, 256, 3)  # Modify input shape based on your data\n",
    "model = mesonet4(input_shape)\n",
    "\n",
    "# Compile the model\n",
    "model.compile(optimizer='adam', loss='binary_crossentropy', metrics=['accuracy'])\n",
    "\n",
    "# Print model summary\n",
    "model.summary()"
   ]
  },
  {
   "cell_type": "code",
   "execution_count": 55,
   "id": "ef23f785",
   "metadata": {
    "execution": {
     "iopub.execute_input": "2023-11-07T03:33:10.689749Z",
     "iopub.status.busy": "2023-11-07T03:33:10.689345Z",
     "iopub.status.idle": "2023-11-07T03:33:10.693879Z",
     "shell.execute_reply": "2023-11-07T03:33:10.692735Z"
    },
    "id": "8_0UUqYMzYDv",
    "outputId": "321fd85c-efab-46c6-8433-fbcc2ac96635",
    "papermill": {
     "duration": 0.020071,
     "end_time": "2023-11-07T03:33:10.695873",
     "exception": false,
     "start_time": "2023-11-07T03:33:10.675802",
     "status": "completed"
    },
    "tags": []
   },
   "outputs": [],
   "source": [
    "# from google.colab import drive\n",
    "# drive.mount('/content/drive')\n",
    "import os"
   ]
  },
  {
   "cell_type": "code",
   "execution_count": 101,
   "id": "a131c2fa",
   "metadata": {
    "execution": {
     "iopub.execute_input": "2023-11-07T03:33:10.722973Z",
     "iopub.status.busy": "2023-11-07T03:33:10.722123Z",
     "iopub.status.idle": "2023-11-07T03:33:10.729310Z",
     "shell.execute_reply": "2023-11-07T03:33:10.728247Z"
    },
    "id": "WM-qX-eizXuY",
    "papermill": {
     "duration": 0.023107,
     "end_time": "2023-11-07T03:33:10.731442",
     "exception": false,
     "start_time": "2023-11-07T03:33:10.708335",
     "status": "completed"
    },
    "tags": []
   },
   "outputs": [
    {
     "data": {
      "text/plain": [
       "'/home/dev/SIC_AI/Deepfake-Detection-using-MesoNet/Data/df_database'"
      ]
     },
     "execution_count": 101,
     "metadata": {},
     "output_type": "execute_result"
    }
   ],
   "source": [
    "os.chdir('/home/dev/SIC_AI/Deepfake-Detection-using-MesoNet/Data/df_database/')\n",
    "os.getcwd()"
   ]
  },
  {
   "cell_type": "code",
   "execution_count": 102,
   "id": "a1b021d1",
   "metadata": {
    "execution": {
     "iopub.execute_input": "2023-11-07T03:33:10.759400Z",
     "iopub.status.busy": "2023-11-07T03:33:10.758985Z",
     "iopub.status.idle": "2023-11-07T03:33:10.775535Z",
     "shell.execute_reply": "2023-11-07T03:33:10.774554Z"
    },
    "papermill": {
     "duration": 0.03372,
     "end_time": "2023-11-07T03:33:10.777705",
     "exception": false,
     "start_time": "2023-11-07T03:33:10.743985",
     "status": "completed"
    },
    "tags": []
   },
   "outputs": [
    {
     "data": {
      "text/plain": [
       "['real', 'df']"
      ]
     },
     "execution_count": 102,
     "metadata": {},
     "output_type": "execute_result"
    }
   ],
   "source": [
    "os.listdir('./train:test/')"
   ]
  },
  {
   "cell_type": "code",
   "execution_count": 72,
   "id": "4498ec41",
   "metadata": {
    "execution": {
     "iopub.execute_input": "2023-11-07T03:33:10.806591Z",
     "iopub.status.busy": "2023-11-07T03:33:10.805704Z",
     "iopub.status.idle": "2023-11-07T03:36:05.278702Z",
     "shell.execute_reply": "2023-11-07T03:36:05.277773Z"
    },
    "id": "k4uAKln52aSP",
    "outputId": "a3da796b-3454-49cd-8022-16d958f6fe61",
    "papermill": {
     "duration": 174.490089,
     "end_time": "2023-11-07T03:36:05.281337",
     "exception": false,
     "start_time": "2023-11-07T03:33:10.791248",
     "status": "completed"
    },
    "tags": []
   },
   "outputs": [
    {
     "name": "stdout",
     "output_type": "stream",
     "text": [
      "Found 12353 images belonging to 2 classes.\n"
     ]
    }
   ],
   "source": [
    "# Data loading and preprocessing\n",
    "# You should replace this with your dataset loading and preprocessing code\n",
    "# Make sure to split your dataset into training and validation sets\n",
    "\n",
    "# Example data loading using ImageDataGenerator\n",
    "train_data_generator = ImageDataGenerator(\n",
    "    rescale=1./255,\n",
    "    rotation_range=20,\n",
    "    width_shift_range=0.2,\n",
    "    height_shift_range=0.2,\n",
    "    horizontal_flip=True,\n",
    ")\n",
    "\n",
    "train_generator = train_data_generator.flow_from_directory(\n",
    "    './train:test/',\n",
    "    target_size=(256, 256),\n",
    "    batch_size=32,\n",
    "    color_mode='rgb',\n",
    "    class_mode='binary',\n",
    "    subset='training'  # Use 'validation' for validation generator\n",
    ")"
   ]
  },
  {
   "cell_type": "code",
   "execution_count": 73,
   "id": "4ca6cdc0",
   "metadata": {
    "execution": {
     "iopub.execute_input": "2023-11-07T03:36:05.309126Z",
     "iopub.status.busy": "2023-11-07T03:36:05.308714Z",
     "iopub.status.idle": "2023-11-07T03:36:05.315386Z",
     "shell.execute_reply": "2023-11-07T03:36:05.314142Z"
    },
    "id": "6LNGL8Za2F4H",
    "outputId": "3c9ff844-bc73-4b79-eed0-e5332e8b3d3d",
    "papermill": {
     "duration": 0.023126,
     "end_time": "2023-11-07T03:36:05.317448",
     "exception": false,
     "start_time": "2023-11-07T03:36:05.294322",
     "status": "completed"
    },
    "tags": []
   },
   "outputs": [
    {
     "data": {
      "text/plain": [
       "{'df': 0, 'real': 1}"
      ]
     },
     "execution_count": 73,
     "metadata": {},
     "output_type": "execute_result"
    }
   ],
   "source": [
    "train_generator.class_indices"
   ]
  },
  {
   "cell_type": "code",
   "execution_count": 74,
   "id": "ef1db1e2",
   "metadata": {
    "execution": {
     "iopub.execute_input": "2023-11-07T03:36:05.345034Z",
     "iopub.status.busy": "2023-11-07T03:36:05.344633Z",
     "iopub.status.idle": "2023-11-07T03:36:05.352815Z",
     "shell.execute_reply": "2023-11-07T03:36:05.351662Z"
    },
    "id": "mWO07QZu0Nv4",
    "outputId": "6b56edf5-c711-49b2-bacb-84f8639ce8ac",
    "papermill": {
     "duration": 0.024811,
     "end_time": "2023-11-07T03:36:05.355143",
     "exception": false,
     "start_time": "2023-11-07T03:36:05.330332",
     "status": "completed"
    },
    "tags": []
   },
   "outputs": [
    {
     "data": {
      "text/plain": [
       "array([0, 0, 0, ..., 1, 1, 1], dtype=int32)"
      ]
     },
     "execution_count": 74,
     "metadata": {},
     "output_type": "execute_result"
    }
   ],
   "source": [
    "train_generator.classes"
   ]
  },
  {
   "cell_type": "code",
   "execution_count": 75,
   "id": "784536a0",
   "metadata": {
    "execution": {
     "iopub.execute_input": "2023-11-07T03:36:05.383461Z",
     "iopub.status.busy": "2023-11-07T03:36:05.383038Z",
     "iopub.status.idle": "2023-11-07T14:47:16.550955Z",
     "shell.execute_reply": "2023-11-07T14:47:16.549953Z"
    },
    "id": "_HujWqmN2gtw",
    "outputId": "2709c1d3-4eca-461b-e5b6-3230f00ace8e",
    "papermill": {
     "duration": 40271.185196,
     "end_time": "2023-11-07T14:47:16.553595",
     "exception": false,
     "start_time": "2023-11-07T03:36:05.368399",
     "status": "completed"
    },
    "tags": []
   },
   "outputs": [
    {
     "name": "stdout",
     "output_type": "stream",
     "text": [
      "Epoch 1/25\n",
      "387/387 [==============================] - 474s 1s/step - loss: 0.6926 - accuracy: 0.5928\n",
      "Epoch 2/25\n",
      "387/387 [==============================] - 427s 1s/step - loss: 0.5741 - accuracy: 0.7020\n",
      "Epoch 3/25\n",
      "387/387 [==============================] - 414s 1s/step - loss: 0.4807 - accuracy: 0.7639\n",
      "Epoch 4/25\n",
      "387/387 [==============================] - 569s 1s/step - loss: 0.4316 - accuracy: 0.7953\n",
      "Epoch 5/25\n",
      "387/387 [==============================] - 587s 2s/step - loss: 0.3874 - accuracy: 0.8213\n",
      "Epoch 6/25\n",
      "387/387 [==============================] - 568s 1s/step - loss: 0.3660 - accuracy: 0.8289\n",
      "Epoch 7/25\n",
      "387/387 [==============================] - 439s 1s/step - loss: 0.3482 - accuracy: 0.8431\n",
      "Epoch 8/25\n",
      "387/387 [==============================] - 486s 1s/step - loss: 0.3315 - accuracy: 0.8527\n",
      "Epoch 9/25\n",
      "387/387 [==============================] - 487s 1s/step - loss: 0.3262 - accuracy: 0.8580\n",
      "Epoch 10/25\n",
      "387/387 [==============================] - 489s 1s/step - loss: 0.2967 - accuracy: 0.8724\n",
      "Epoch 11/25\n",
      "387/387 [==============================] - 487s 1s/step - loss: 0.2866 - accuracy: 0.8782\n",
      "Epoch 12/25\n",
      "387/387 [==============================] - 472s 1s/step - loss: 0.2762 - accuracy: 0.8820\n",
      "Epoch 13/25\n",
      "387/387 [==============================] - 461s 1s/step - loss: 0.2622 - accuracy: 0.8890\n",
      "Epoch 14/25\n",
      "387/387 [==============================] - 468s 1s/step - loss: 0.2869 - accuracy: 0.8763\n",
      "Epoch 15/25\n",
      "387/387 [==============================] - 479s 1s/step - loss: 0.2541 - accuracy: 0.8940\n",
      "Epoch 16/25\n",
      "387/387 [==============================] - 442s 1s/step - loss: 0.2435 - accuracy: 0.8945\n",
      "Epoch 17/25\n",
      "387/387 [==============================] - 447s 1s/step - loss: 0.2395 - accuracy: 0.8981\n",
      "Epoch 18/25\n",
      "387/387 [==============================] - 445s 1s/step - loss: 0.2262 - accuracy: 0.9054\n",
      "Epoch 19/25\n",
      "387/387 [==============================] - 453s 1s/step - loss: 0.2228 - accuracy: 0.9063\n",
      "Epoch 20/25\n",
      "387/387 [==============================] - 475s 1s/step - loss: 0.2582 - accuracy: 0.8927\n",
      "Epoch 21/25\n",
      "387/387 [==============================] - 436s 1s/step - loss: 0.2356 - accuracy: 0.9047\n",
      "Epoch 22/25\n",
      "387/387 [==============================] - 492s 1s/step - loss: 0.2174 - accuracy: 0.9091\n",
      "Epoch 23/25\n",
      "387/387 [==============================] - 444s 1s/step - loss: 0.2017 - accuracy: 0.9194\n",
      "Epoch 24/25\n",
      "387/387 [==============================] - 425s 1s/step - loss: 0.2098 - accuracy: 0.9154\n",
      "Epoch 25/25\n",
      "387/387 [==============================] - 414s 1s/step - loss: 0.2053 - accuracy: 0.9208\n"
     ]
    },
    {
     "name": "stderr",
     "output_type": "stream",
     "text": [
      "/home/dev/SIC_AI/MYENV/lib/python3.11/site-packages/keras/src/engine/training.py:3079: UserWarning: You are saving your model as an HDF5 file via `model.save()`. This file format is considered legacy. We recommend using instead the native Keras format, e.g. `model.save('my_model.keras')`.\n",
      "  saving_api.save_model(\n"
     ]
    }
   ],
   "source": [
    "# Training the model\n",
    "model.fit(train_generator, epochs=25)\n",
    "os.chdir('/home/dev/SIC_AI/Deepfake-Detection-using-MesoNet/Model/')\n",
    "model.save('my_trained_model_new1.h5')"
   ]
  },
  {
   "cell_type": "code",
   "execution_count": 25,
   "id": "9504c984",
   "metadata": {
    "execution": {
     "iopub.execute_input": "2023-11-07T14:47:31.400406Z",
     "iopub.status.busy": "2023-11-07T14:47:31.400021Z",
     "iopub.status.idle": "2023-11-07T14:47:31.458151Z",
     "shell.execute_reply": "2023-11-07T14:47:31.457016Z"
    },
    "id": "GwtooUR-A5Nx",
    "papermill": {
     "duration": 7.467456,
     "end_time": "2023-11-07T14:47:31.460485",
     "exception": false,
     "start_time": "2023-11-07T14:47:23.993029",
     "status": "completed"
    },
    "scrolled": true,
    "tags": []
   },
   "outputs": [],
   "source": [
    "os.chdir('/home/dev/SIC_AI/Deepfake-Detection-using-MesoNet/Model/')\n",
    "#model.save('my_trained_model_newDS.h5') #Save the model"
   ]
  },
  {
   "cell_type": "code",
   "execution_count": 103,
   "id": "38c6a05a",
   "metadata": {
    "execution": {
     "iopub.execute_input": "2023-11-07T14:47:46.222929Z",
     "iopub.status.busy": "2023-11-07T14:47:46.222532Z",
     "iopub.status.idle": "2023-11-07T14:47:47.247262Z",
     "shell.execute_reply": "2023-11-07T14:47:47.245664Z"
    },
    "id": "5giZfM9vA-PQ",
    "papermill": {
     "duration": 8.195662,
     "end_time": "2023-11-07T14:47:47.248787",
     "exception": true,
     "start_time": "2023-11-07T14:47:39.053125",
     "status": "failed"
    },
    "tags": []
   },
   "outputs": [],
   "source": [
    "os.chdir('/home/dev/SIC_AI/Deepfake-Detection-using-MesoNet/Model/')\n",
    "loaded_model = load_model('my_trained_model_new1.h5')\n",
    "#MODEL LOADED"
   ]
  },
  {
   "cell_type": "code",
   "execution_count": 104,
   "id": "35a2bd7a",
   "metadata": {},
   "outputs": [
    {
     "name": "stdout",
     "output_type": "stream",
     "text": [
      "Found 7104 images belonging to 2 classes.\n"
     ]
    }
   ],
   "source": [
    "os.chdir('/home/dev/SIC_AI/Deepfake-Detection-using-MesoNet/Data/df_database/')\n",
    "# Test Generator\n",
    "test_data_generator = ImageDataGenerator(\n",
    "    rescale=1./255,\n",
    "    rotation_range=20,\n",
    "    width_shift_range=0.2,\n",
    "    height_shift_range=0.2,\n",
    "    horizontal_flip=True,\n",
    ")\n",
    "\n",
    "test_generator = test_data_generator.flow_from_directory(\n",
    "    './validation/',\n",
    "    target_size=(256, 256),\n",
    "    batch_size=32,\n",
    "    color_mode='rgb',\n",
    "    class_mode='binary',\n",
    "    shuffle=False\n",
    ")\n"
   ]
  },
  {
   "cell_type": "code",
   "execution_count": 105,
   "id": "b68f5498",
   "metadata": {},
   "outputs": [
    {
     "name": "stdout",
     "output_type": "stream",
     "text": [
      "222/222 [==============================] - 97s 436ms/step - loss: 0.4226 - accuracy: 0.8404\n",
      "Accuracy:  84.03716087341309\n"
     ]
    }
   ],
   "source": [
    "results = loaded_model.evaluate(test_generator)\n",
    "tf.print('Accuracy: ', results[1]*100)"
   ]
  },
  {
   "cell_type": "code",
   "execution_count": 85,
   "id": "3848476c",
   "metadata": {
    "id": "tmCCS0xr_Vmm",
    "papermill": {
     "duration": null,
     "end_time": null,
     "exception": null,
     "start_time": null,
     "status": "pending"
    },
    "tags": []
   },
   "outputs": [],
   "source": [
    "# from tensorflow.keras.preprocessing.image import img_to_array, load_img\n",
    "# import matplotlib.pyplot as plt\n",
    "\n",
    "# def preprocess_image(image_path):\n",
    "#     img = load_img(image_path, target_size=(128, 128,3))  # You can adjust the target size to match your model's input size\n",
    "#     img = img_to_array(img)\n",
    "#     img = np.expand_dims(img, axis=0)\n",
    "#     img = img / 255.0  # Normalize the image data if your model requires it\n",
    "#     return img"
   ]
  },
  {
   "cell_type": "code",
   "execution_count": 86,
   "id": "5aad9395",
   "metadata": {
    "id": "oP4fjayZ_kuF",
    "papermill": {
     "duration": null,
     "end_time": null,
     "exception": null,
     "start_time": null,
     "status": "pending"
    },
    "tags": []
   },
   "outputs": [],
   "source": [
    "# def predict_and_display(image_path):\n",
    "#     img = preprocess_image(image_path)\n",
    "#     prediction = model.predict(img)\n",
    "#     class_label = \"Real\" if prediction < 0.5 else \"Deepfake\"\n",
    "#     confidence = abs(0.5 - prediction[0, 0]) * 2  # Scale the confidence between 0 and 1\n",
    "\n",
    "#     # Display the image and prediction\n",
    "#     plt.imshow(cv2.imread(image_path))\n",
    "#     plt.title(f\"Class: {class_label}, Confidence: {confidence:.2f}\")\n",
    "#     plt.show()"
   ]
  },
  {
   "cell_type": "code",
   "execution_count": 87,
   "id": "d9da5734",
   "metadata": {
    "id": "zK4HMsHR_u-c",
    "outputId": "b07a818f-e7d4-4915-df13-3c1ef0d33b56",
    "papermill": {
     "duration": null,
     "end_time": null,
     "exception": null,
     "start_time": null,
     "status": "pending"
    },
    "tags": []
   },
   "outputs": [],
   "source": [
    "# import os\n",
    "# import cv2\n",
    "\n",
    "# validation_data_dir = '/content/drive/MyDrive/Colab_Notebooks/deepfake_database/validation'\n",
    "\n",
    "# for subdir in os.listdir(validation_data_dir):\n",
    "#     subdir_path = os.path.join(validation_data_dir, subdir)\n",
    "#     if os.path.isdir(subdir_path):\n",
    "#         for file in os.listdir(subdir_path):\n",
    "#             image_path = os.path.join(subdir_path, file)\n",
    "#             img = preprocess_image(image_path)\n",
    "#             prediction = model.predict(img)\n",
    "#             predicted_class = 1 if prediction >= 0.5 else 0  # 1 for \"deepfake\" and 0 for \"real\"\n",
    "\n",
    "#             actual_class = 1 if subdir == 'deepfake' else 0  # Define the actual class based on the folder name\n",
    "\n",
    "#             if predicted_class != actual_class:\n",
    "#                 # Display the image with both predicted and actual labels\n",
    "#                 predicted_label = \"Deepfake\" if predicted_class == 1 else \"Real\"\n",
    "#                 actual_label = \"Deepfake\" if actual_class == 1 else \"Real\"\n",
    "#                 confidence = abs(0.5 - prediction[0, 0]) * 2\n",
    "\n",
    "#                 # Display the image and labels\n",
    "#                 image = cv2.imread(image_path)\n",
    "#                 fig, ax = plt.subplots(1, 2, figsize=(10, 4))\n",
    "#                 ax[0].imshow(image)\n",
    "#                 ax[0].set_title(f\"Predicted: {predicted_label}\")\n",
    "#                 ax[1].imshow(image)\n",
    "#                 ax[1].set_title(f\"Actual: {actual_label}\")\n",
    "#                 plt.show()"
   ]
  },
  {
   "cell_type": "markdown",
   "id": "ddad8eae",
   "metadata": {
    "id": "9E9JsheqC71S",
    "papermill": {
     "duration": null,
     "end_time": null,
     "exception": null,
     "start_time": null,
     "status": "pending"
    },
    "tags": []
   },
   "source": [
    "evaluating models performance"
   ]
  },
  {
   "cell_type": "code",
   "execution_count": 88,
   "id": "5c1ddcc4",
   "metadata": {
    "id": "XZ9EKg7DDBac",
    "papermill": {
     "duration": null,
     "end_time": null,
     "exception": null,
     "start_time": null,
     "status": "pending"
    },
    "tags": []
   },
   "outputs": [],
   "source": [
    "true_labels = []\n",
    "predicted_labels = []"
   ]
  },
  {
   "cell_type": "markdown",
   "id": "a7b50915",
   "metadata": {
    "id": "ECAT8mJoVnJ_",
    "papermill": {
     "duration": null,
     "end_time": null,
     "exception": null,
     "start_time": null,
     "status": "pending"
    },
    "tags": []
   },
   "source": [
    "New Approach"
   ]
  },
  {
   "cell_type": "code",
   "execution_count": 106,
   "id": "39f55871",
   "metadata": {},
   "outputs": [
    {
     "data": {
      "text/plain": [
       "array([0, 0, 0, ..., 1, 1, 1], dtype=int32)"
      ]
     },
     "execution_count": 106,
     "metadata": {},
     "output_type": "execute_result"
    }
   ],
   "source": [
    "test_generator.classes"
   ]
  },
  {
   "cell_type": "code",
   "execution_count": 107,
   "id": "54df38e8",
   "metadata": {
    "id": "JeppCvXCXhTb",
    "outputId": "c88d2079-ba35-46b3-fa1d-eae7923af837",
    "papermill": {
     "duration": null,
     "end_time": null,
     "exception": null,
     "start_time": null,
     "status": "pending"
    },
    "tags": []
   },
   "outputs": [
    {
     "name": "stdout",
     "output_type": "stream",
     "text": [
      "222/222 [==============================] - 93s 417ms/step\n"
     ]
    }
   ],
   "source": [
    "from sklearn.metrics import accuracy_score, classification_report, confusion_matrix\n",
    "\n",
    "# Assuming you have loaded the test data and true labels correctly\n",
    "\n",
    "# Make predictions on the test dataset using your loaded model\n",
    "test_predictions = loaded_model.predict(test_generator)"
   ]
  },
  {
   "cell_type": "code",
   "execution_count": 131,
   "id": "3dbb0932",
   "metadata": {
    "id": "_uuhlEnvYZmt",
    "outputId": "bfda811b-609a-40b4-fbf8-7ffecd31d413",
    "papermill": {
     "duration": null,
     "end_time": null,
     "exception": null,
     "start_time": null,
     "status": "pending"
    },
    "tags": []
   },
   "outputs": [
    {
     "name": "stdout",
     "output_type": "stream",
     "text": [
      "Accuracy: 0.8300957207207207\n",
      "Precision: 0.8926917138445702\n",
      "Recall: 0.8145104484620803\n",
      "F1-Score: 0.8518109269490486\n",
      "Confusion Matrix:\n",
      "[[2428  417]\n",
      " [ 790 3469]]\n"
     ]
    }
   ],
   "source": [
    "from sklearn.metrics import accuracy_score, precision_score, recall_score, f1_score, confusion_matrix\n",
    "\n",
    "# Ensure that the true_labels have the same number of samples as test_predictions\n",
    "true_labels = test_generator.classes\n",
    "\n",
    "binary_predictions = (test_predictions >= 0.71).astype(int)\n",
    "\n",
    "# Ensure that the true_labels are already in a binary format\n",
    "# If not, convert them to binary format as well\n",
    "\n",
    "# Calculate evaluation metrics\n",
    "accuracy = accuracy_score(true_labels, binary_predictions)\n",
    "precision = precision_score(true_labels, binary_predictions)\n",
    "recall = recall_score(true_labels, binary_predictions)\n",
    "f1 = f1_score(true_labels, binary_predictions)\n",
    "confusion = confusion_matrix(true_labels, binary_predictions)\n",
    "\n",
    "print(\"Accuracy:\", accuracy)\n",
    "print(\"Precision:\", precision)\n",
    "print(\"Recall:\", recall)\n",
    "print(\"F1-Score:\", f1)\n",
    "print(\"Confusion Matrix:\")\n",
    "print(confusion)"
   ]
  },
  {
   "cell_type": "code",
   "execution_count": 132,
   "id": "d7e56a34",
   "metadata": {
    "id": "rTH7E5qMboOb",
    "papermill": {
     "duration": null,
     "end_time": null,
     "exception": null,
     "start_time": null,
     "status": "pending"
    },
    "tags": []
   },
   "outputs": [],
   "source": [
    "import matplotlib.pyplot as plt\n",
    "from sklearn.metrics import roc_curve,auc"
   ]
  },
  {
   "cell_type": "code",
   "execution_count": 133,
   "id": "01bc59d6",
   "metadata": {},
   "outputs": [
    {
     "data": {
      "image/png": "[encoded data removed]",
      "text/plain": [
       "<Figure size 800x800 with 1 Axes>"
      ]
     },
     "metadata": {},
     "output_type": "display_data"
    }
   ],
   "source": [
    "fpr, tpr, thresholds = roc_curve(test_generator.labels,test_predictions)\n",
    "roc_auc=auc(fpr,tpr)\n",
    "# Plot the ROC curve\n",
    "plt.figure(figsize=(8, 8))\n",
    "plt.plot(fpr, tpr, color='darkorange', lw=2, label=f'AUC = {roc_auc:.2f}')\n",
    "plt.xlabel('False Positive Rate')\n",
    "plt.ylabel('True Positive Rate')\n",
    "plt.title('ROC Curve')\n",
    "plt.legend(loc='lower right')\n",
    "plt.show()"
   ]
  },
  {
   "cell_type": "code",
   "execution_count": 134,
   "id": "9ff1a9b2",
   "metadata": {},
   "outputs": [
    {
     "data": {
      "image/png": "[encoded data removed]",
      "text/plain": [
       "<Figure size 800x800 with 1 Axes>"
      ]
     },
     "metadata": {},
     "output_type": "display_data"
    }
   ],
   "source": [
    "cutoff_grid=np.linspace(0.0,1.0,1000)\n",
    "TPR=[]\n",
    "FPR=[]\n",
    "# Populate the TP and FP lists.\n",
    "for cutoff in cutoff_grid:\n",
    "    Y_pred_test_val = (test_predictions > cutoff).astype(int)\n",
    "    conf_mat = confusion_matrix(test_generator.labels,Y_pred_test_val)\n",
    "    sensitivity = conf_mat[1,1]/(conf_mat[1,0]+conf_mat[1,1])\n",
    "    specificity = conf_mat[0,0]/(conf_mat[0,0]+conf_mat[0,1])\n",
    "    TPR.append(sensitivity)\n",
    "    FPR.append(1-specificity)\n",
    "# Plot the ROC curve\n",
    "plt.figure(figsize=(8, 8))\n",
    "plt.plot(FPR, TPR, color='darkorange', lw=2, label=f'AUC = {roc_auc:.2f}')\n",
    "plt.xlabel('False Positive Rate')\n",
    "plt.ylabel('True Positive Rate')\n",
    "plt.title('ROC Curve')\n",
    "plt.legend(loc='lower right')\n",
    "plt.show()"
   ]
  },
  {
   "cell_type": "code",
   "execution_count": 112,
   "id": "24b46e12",
   "metadata": {
    "id": "2gUDtiboXGzT",
    "outputId": "00456f43-4dd1-462d-d34b-02da80c8e368",
    "papermill": {
     "duration": null,
     "end_time": null,
     "exception": null,
     "start_time": null,
     "status": "pending"
    },
    "tags": []
   },
   "outputs": [],
   "source": [
    "#  X,y = validation_generator.next()\n",
    "#  print(f\"predicted likelihood: {loaded_model.predict(X)[0][0]:.4f}\")\n",
    "#  print(f\"Actual label: {int(y[0])}\")\n",
    "#  #print(f\"\\nCorrect prediction : {round(loaded_model.predict(X[0][0]==y[0]))}\")\n",
    "\n",
    "#  #plt.imshow(np.squeeze(X));"
   ]
  },
  {
   "cell_type": "code",
   "execution_count": 113,
   "id": "34361c5f",
   "metadata": {
    "id": "9XyEHn6qiTno",
    "outputId": "ca5d8aee-d130-48ca-f6bc-da08135c6e97",
    "papermill": {
     "duration": null,
     "end_time": null,
     "exception": null,
     "start_time": null,
     "status": "pending"
    },
    "tags": []
   },
   "outputs": [],
   "source": [
    "# X, y = validation_generator.next()\n",
    "\n",
    "# # Iterate through the batch of images\n",
    "# for i in range(X.shape[0]):\n",
    "#     # Get an individual image and label from the batch\n",
    "#     single_image = X[i]\n",
    "#     single_label = int(y[i])\n",
    "\n",
    "#     # Make a prediction for the individual image\n",
    "#     predicted_likelihood = loaded_model.predict(single_image.reshape(1, 128, 128, 3))[0][0]\n",
    "\n",
    "#     # Print the results for the individual image\n",
    "#     print(f\"Image {i + 1}\")\n",
    "#     print(f\"Predicted Likelihood: {predicted_likelihood:.4f}\")\n",
    "#     print(f\"Actual Label: {single_label}\")\n",
    "#     print(f\"Correct Prediction: {round(predicted_likelihood) == single_label}\")\n",
    "\n",
    "#     # Display the individual image\n",
    "#     plt.figure()\n",
    "#     plt.imshow(np.squeeze(single_image))\n",
    "#     plt.show()"
   ]
  },
  {
   "cell_type": "code",
   "execution_count": 136,
   "id": "63dbade2",
   "metadata": {
    "id": "OfLJcFtHuIG-",
    "outputId": "3518dc9a-10ca-4c40-c0b0-fb03acf11452",
    "papermill": {
     "duration": null,
     "end_time": null,
     "exception": null,
     "start_time": null,
     "status": "pending"
    },
    "tags": []
   },
   "outputs": [],
   "source": [
    "# import math\n",
    "\n",
    "# X, y = test_generator.next()\n",
    "# batch_size = X.shape[0]\n",
    "\n",
    "# # Calculate the number of rows and columns for the grid\n",
    "# rows = int(math.ceil(math.sqrt(batch_size)))\n",
    "# columns = int(math.ceil(batch_size / rows))\n",
    "\n",
    "# # Create a grid of subplots\n",
    "# fig, axes = plt.subplots(rows, columns, figsize=(16, 16))\n",
    "\n",
    "# # Iterate through the batch of images\n",
    "# for i in range(batch_size):\n",
    "#     # Get an individual image and label from the batch\n",
    "#     single_image = X[i]\n",
    "#     single_label = int(y[i])\n",
    "\n",
    "#     # Make a prediction for the individual image\n",
    "#     predicted_likelihood = loaded_model.predict(single_image.reshape(1, 256, 256, 3))[0][0]\n",
    "\n",
    "#     # Calculate the subplot position\n",
    "#     row = i // columns\n",
    "#     col = i % columns\n",
    "\n",
    "#     # Plot the image and add labels\n",
    "#     ax = axes[row, col]\n",
    "#     ax.imshow(np.squeeze(single_image))\n",
    "#     ax.set_title(f\"Predicted: {predicted_likelihood:.4f}\\nActual: {single_label}\")\n",
    "#     ax.axis('off')\n",
    "\n",
    "# # Remove empty subplots, if any\n",
    "# for i in range(batch_size, rows * columns):\n",
    "#     fig.delaxes(axes.flatten()[i])\n",
    "\n",
    "# plt.show()"
   ]
  },
  {
   "cell_type": "code",
   "execution_count": null,
   "id": "3cbbf24b",
   "metadata": {
    "id": "YzCEqBEHhqQf",
    "papermill": {
     "duration": null,
     "end_time": null,
     "exception": null,
     "start_time": null,
     "status": "pending"
    },
    "tags": []
   },
   "outputs": [],
   "source": [
    "#creating seperate lists for correctly c;lasssified abd misclassified images\n",
    "\n",
    "correct_real=[]\n",
    "correct_real_pred=[]\n",
    "\n",
    "correct_deepfake=[]\n",
    "correct_deepfake_pred=[]\n",
    "\n",
    "misclassified_real=[]\n",
    "misclassified_real_pred=[]\n",
    "\n",
    "missclassified_deepfake=[]\n",
    "missclasssified_deepfake_pred=[]\n"
   ]
  },
  {
   "cell_type": "code",
   "execution_count": null,
   "id": "4e3d8c5a",
   "metadata": {
    "id": "jh9hhSwSiQoy",
    "outputId": "ce6999e6-4ebf-4649-a20b-3a6c5f4b3885",
    "papermill": {
     "duration": null,
     "end_time": null,
     "exception": null,
     "start_time": null,
     "status": "pending"
    },
    "tags": []
   },
   "outputs": [],
   "source": [
    "for i in range (len(generator.labels)):\n",
    "  #loading next picture\n",
    "  X,y=generator.next()\n",
    "\n",
    "  if round(loaded_model.predict(X)[0][0])==y[0] and y[0]==1:\n",
    "    correct_real.append(X)\n",
    "    correct_real_pred.append(loaded_model.predict(X)[0][0])\n",
    "\n",
    "  elif round(loaded_model.predict(X)[0][0])==y[0] and y[0]==0:\n",
    "    correct_deepfake.append(X)\n",
    "    correct_deepfake_pred.append(loaded_model.predict(X)[0][0])\n",
    "\n",
    "  elif round(loaded_model.predict(X)[0][0])==y[0] and y[0]==1:\n",
    "    misclassified_real.append(X)\n",
    "    misclassified_real_pred.append(loaded_model.predict(X)[0][0])\n",
    "\n",
    "  else:\n",
    "    missclassified_deepfake.append(X)\n",
    "    missclasssified_deepfake_pred.append(loaded_model.predict(X)[0][0])\n",
    "\n",
    "if i%1000 ==0:\n",
    "  print(i,\"predictions completed\")\n",
    "\n",
    "if i==len(generator.labels)-1:\n",
    "  print(\"All\", len(generator.labels),\"predictions completed\")"
   ]
  },
  {
   "cell_type": "code",
   "execution_count": null,
   "id": "7897dd52",
   "metadata": {
    "id": "VTymcgSlkpLO",
    "outputId": "44ba297a-006c-4e59-a345-3a5f9193d749",
    "papermill": {
     "duration": null,
     "end_time": null,
     "exception": null,
     "start_time": null,
     "status": "pending"
    },
    "tags": []
   },
   "outputs": [],
   "source": [
    "def plotter (images,preds):\n",
    "  fig = pt.figure(figsize=(16,9))\n",
    "  subset= np.random.radint(0,len(images)-1,12)\n",
    "\n",
    "  for i,j in enumerate(subset):\n",
    "    fig.add_subplot(3,4,i+1)\n",
    "    plt.imshow(np.squeeze(images[j]))\n",
    "    plt.xlabel(f\"Model confidience: \"\\n {preds[j]:.4j})\n",
    "    plt.tight_layout()\n",
    "    ax=plt.gca()\n",
    "    ax.axes.xaxis.set_ticks([])\n",
    "    ax.axes.yaxis.set_ticks([])\n",
    "  plt.show;\n",
    "  return\n"
   ]
  },
  {
   "cell_type": "code",
   "execution_count": null,
   "id": "ebcc371f",
   "metadata": {
    "id": "C2Koj3UYmHtl",
    "papermill": {
     "duration": null,
     "end_time": null,
     "exception": null,
     "start_time": null,
     "status": "pending"
    },
    "tags": []
   },
   "outputs": [],
   "source": [
    "plotter(correct_real,correct_real_pred)"
   ]
  },
  {
   "cell_type": "code",
   "execution_count": null,
   "id": "89b81190",
   "metadata": {
    "id": "Fvbe8ff3mQQX",
    "papermill": {
     "duration": null,
     "end_time": null,
     "exception": null,
     "start_time": null,
     "status": "pending"
    },
    "tags": []
   },
   "outputs": [],
   "source": [
    "plotter(misclassified_real , misclassified_real_pred)"
   ]
  },
  {
   "cell_type": "code",
   "execution_count": null,
   "id": "a54c467e",
   "metadata": {
    "id": "4SWJx1Lgmm4V",
    "papermill": {
     "duration": null,
     "end_time": null,
     "exception": null,
     "start_time": null,
     "status": "pending"
    },
    "tags": []
   },
   "outputs": [],
   "source": [
    "plotter(correct_deepfake , correct_deepfake_pred)"
   ]
  },
  {
   "cell_type": "code",
   "execution_count": null,
   "id": "2cf2a224",
   "metadata": {
    "id": "TqVl9m8ymxOd",
    "papermill": {
     "duration": null,
     "end_time": null,
     "exception": null,
     "start_time": null,
     "status": "pending"
    },
    "tags": []
   },
   "outputs": [],
   "source": [
    "plotter(missclassified_deepfake , missclasssified_deepfake_pred)"
   ]
  }
 ],
 "metadata": {
  "kernelspec": {
   "display_name": "Python 3 (ipykernel)",
   "language": "python",
   "name": "python3"
  },
  "language_info": {
   "codemirror_mode": {
    "name": "ipython",
    "version": 3
   },
   "file_extension": ".py",
   "mimetype": "text/x-python",
   "name": "python",
   "nbconvert_exporter": "python",
   "pygments_lexer": "ipython3",
   "version": "3.11.5"
  },
  "papermill": {
   "default_parameters": {},
   "duration": 40498.553669,
   "end_time": "2023-11-07T14:47:57.030058",
   "environment_variables": {},
   "exception": true,
   "input_path": "__notebook__.ipynb",
   "output_path": "__notebook__.ipynb",
   "parameters": {},
   "start_time": "2023-11-07T03:32:58.476389",
   "version": "2.4.0"
  }
 },
 "nbformat": 4,
 "nbformat_minor": 5
}
